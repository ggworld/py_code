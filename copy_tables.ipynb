{
 "cells": [
  {
   "cell_type": "markdown",
   "id": "59b06e3e",
   "metadata": {},
   "source": [
    "# One time replication tables between database using pandas \n",
    "\n",
    "### copy from source to target / no processing - naive approce \n",
    "### implemeted over sqlite but works with any db \n",
    "\n",
    "for questions and comments me.geva@gmail.com "
   ]
  },
  {
   "cell_type": "code",
   "execution_count": 37,
   "id": "6a3a0964",
   "metadata": {},
   "outputs": [],
   "source": [
    "import sqlite3\n",
    "import pandas as pd"
   ]
  },
  {
   "cell_type": "code",
   "execution_count": 45,
   "id": "07f2577c",
   "metadata": {},
   "outputs": [],
   "source": [
    "conn_orig = sqlite3.connect('/Users/geva/db/chinook.db')\n",
    "conn_dest = sqlite3.connect('/Users/geva/db/chinook_target.db')"
   ]
  },
  {
   "cell_type": "code",
   "execution_count": 46,
   "id": "81fb3287",
   "metadata": {},
   "outputs": [
    {
     "data": {
      "text/html": [
       "<div>\n",
       "<style scoped>\n",
       "    .dataframe tbody tr th:only-of-type {\n",
       "        vertical-align: middle;\n",
       "    }\n",
       "\n",
       "    .dataframe tbody tr th {\n",
       "        vertical-align: top;\n",
       "    }\n",
       "\n",
       "    .dataframe thead th {\n",
       "        text-align: right;\n",
       "    }\n",
       "</style>\n",
       "<table border=\"1\" class=\"dataframe\">\n",
       "  <thead>\n",
       "    <tr style=\"text-align: right;\">\n",
       "      <th></th>\n",
       "      <th>name</th>\n",
       "    </tr>\n",
       "  </thead>\n",
       "  <tbody>\n",
       "    <tr>\n",
       "      <th>0</th>\n",
       "      <td>albums</td>\n",
       "    </tr>\n",
       "    <tr>\n",
       "      <th>1</th>\n",
       "      <td>artists</td>\n",
       "    </tr>\n",
       "    <tr>\n",
       "      <th>2</th>\n",
       "      <td>customers</td>\n",
       "    </tr>\n",
       "    <tr>\n",
       "      <th>3</th>\n",
       "      <td>employees</td>\n",
       "    </tr>\n",
       "    <tr>\n",
       "      <th>4</th>\n",
       "      <td>genres</td>\n",
       "    </tr>\n",
       "    <tr>\n",
       "      <th>5</th>\n",
       "      <td>invoices</td>\n",
       "    </tr>\n",
       "    <tr>\n",
       "      <th>6</th>\n",
       "      <td>invoice_items</td>\n",
       "    </tr>\n",
       "    <tr>\n",
       "      <th>7</th>\n",
       "      <td>media_types</td>\n",
       "    </tr>\n",
       "    <tr>\n",
       "      <th>8</th>\n",
       "      <td>playlists</td>\n",
       "    </tr>\n",
       "    <tr>\n",
       "      <th>9</th>\n",
       "      <td>playlist_track</td>\n",
       "    </tr>\n",
       "    <tr>\n",
       "      <th>10</th>\n",
       "      <td>tracks</td>\n",
       "    </tr>\n",
       "    <tr>\n",
       "      <th>11</th>\n",
       "      <td>tmp_data</td>\n",
       "    </tr>\n",
       "  </tbody>\n",
       "</table>\n",
       "</div>"
      ],
      "text/plain": [
       "              name\n",
       "0           albums\n",
       "1          artists\n",
       "2        customers\n",
       "3        employees\n",
       "4           genres\n",
       "5         invoices\n",
       "6    invoice_items\n",
       "7      media_types\n",
       "8        playlists\n",
       "9   playlist_track\n",
       "10          tracks\n",
       "11        tmp_data"
      ]
     },
     "execution_count": 46,
     "metadata": {},
     "output_type": "execute_result"
    }
   ],
   "source": [
    "# get list of tables for mysql use \"show tables\"\n",
    "qry_list_tables = \"\"\"SELECT name FROM sqlite_schema WHERE type ='table' AND name NOT LIKE 'sqlite_%'\"\"\"\n",
    "df_list_tables = pd.read_sql(con=conn_orig,sql=qry_list_tables)\n",
    "#the tables to be copeid \n",
    "df_list_tables"
   ]
  },
  {
   "cell_type": "code",
   "execution_count": 47,
   "id": "d51330c3",
   "metadata": {},
   "outputs": [],
   "source": [
    "exclude_tables = ['tmp_data']"
   ]
  },
  {
   "cell_type": "code",
   "execution_count": 48,
   "id": "c979cbcb",
   "metadata": {},
   "outputs": [
    {
     "name": "stdout",
     "output_type": "stream",
     "text": [
      "moving table: albums\n",
      "moving table: artists\n",
      "moving table: customers\n",
      "moving table: employees\n",
      "moving table: genres\n",
      "moving table: invoices\n",
      "moving table: invoice_items\n",
      "moving table: media_types\n",
      "moving table: playlists\n",
      "moving table: playlist_track\n",
      "moving table: tracks\n",
      "skipping table tmp_data - in exclude_tables\n"
     ]
    }
   ],
   "source": [
    "#looping over the tables and create in the far end\n",
    "for n,tab_name in df_list_tables['name'].iteritems():\n",
    "    if tab_name not in exclude_tables:\n",
    "        print(f\"moving table: {tab_name}\")\n",
    "        qry_get_data = f\"select * from {tab_name}\"\n",
    "        df_get_data = pd.read_sql(con=conn_orig,sql=qry_get_data)\n",
    "        try:\n",
    "            df_get_data.to_sql(con=conn_dest,name=tab_name)\n",
    "        except ValueError:\n",
    "            print (f\"table {tab_name} already exists\")\n",
    "    else:\n",
    "        print(f'skipping table {tab_name} - in exclude_tables')"
   ]
  },
  {
   "cell_type": "code",
   "execution_count": 50,
   "id": "502e3473",
   "metadata": {},
   "outputs": [
    {
     "data": {
      "text/html": [
       "<div>\n",
       "<style scoped>\n",
       "    .dataframe tbody tr th:only-of-type {\n",
       "        vertical-align: middle;\n",
       "    }\n",
       "\n",
       "    .dataframe tbody tr th {\n",
       "        vertical-align: top;\n",
       "    }\n",
       "\n",
       "    .dataframe thead th {\n",
       "        text-align: right;\n",
       "    }\n",
       "</style>\n",
       "<table border=\"1\" class=\"dataframe\">\n",
       "  <thead>\n",
       "    <tr style=\"text-align: right;\">\n",
       "      <th></th>\n",
       "      <th>table_name</th>\n",
       "      <th>cnt</th>\n",
       "    </tr>\n",
       "  </thead>\n",
       "  <tbody>\n",
       "    <tr>\n",
       "      <th>0</th>\n",
       "      <td>albums</td>\n",
       "      <td>347</td>\n",
       "    </tr>\n",
       "    <tr>\n",
       "      <th>0</th>\n",
       "      <td>artists</td>\n",
       "      <td>275</td>\n",
       "    </tr>\n",
       "    <tr>\n",
       "      <th>0</th>\n",
       "      <td>customers</td>\n",
       "      <td>59</td>\n",
       "    </tr>\n",
       "    <tr>\n",
       "      <th>0</th>\n",
       "      <td>employees</td>\n",
       "      <td>8</td>\n",
       "    </tr>\n",
       "    <tr>\n",
       "      <th>0</th>\n",
       "      <td>genres</td>\n",
       "      <td>25</td>\n",
       "    </tr>\n",
       "    <tr>\n",
       "      <th>0</th>\n",
       "      <td>invoices</td>\n",
       "      <td>412</td>\n",
       "    </tr>\n",
       "    <tr>\n",
       "      <th>0</th>\n",
       "      <td>invoice_items</td>\n",
       "      <td>2240</td>\n",
       "    </tr>\n",
       "    <tr>\n",
       "      <th>0</th>\n",
       "      <td>media_types</td>\n",
       "      <td>5</td>\n",
       "    </tr>\n",
       "    <tr>\n",
       "      <th>0</th>\n",
       "      <td>playlists</td>\n",
       "      <td>18</td>\n",
       "    </tr>\n",
       "    <tr>\n",
       "      <th>0</th>\n",
       "      <td>playlist_track</td>\n",
       "      <td>8715</td>\n",
       "    </tr>\n",
       "    <tr>\n",
       "      <th>0</th>\n",
       "      <td>tracks</td>\n",
       "      <td>3503</td>\n",
       "    </tr>\n",
       "  </tbody>\n",
       "</table>\n",
       "</div>"
      ],
      "text/plain": [
       "       table_name   cnt\n",
       "0          albums   347\n",
       "0         artists   275\n",
       "0       customers    59\n",
       "0       employees     8\n",
       "0          genres    25\n",
       "0        invoices   412\n",
       "0   invoice_items  2240\n",
       "0     media_types     5\n",
       "0       playlists    18\n",
       "0  playlist_track  8715\n",
       "0          tracks  3503"
      ]
     },
     "execution_count": 50,
     "metadata": {},
     "output_type": "execute_result"
    }
   ],
   "source": [
    "# verification - Count target row  \n",
    "df_tables_count=pd.DataFrame({'table_name':[],'cnt':[]})\n",
    "for n,tab_name in df_list_tables['name'].iteritems():\n",
    "    if tab_name not in exclude_tables:\n",
    "        df_tables_count=df_tables_count.append(pd.read_sql(con=conn_dest,sql=f\"select '{tab_name}' table_name, count(*) cnt from {tab_name}\"))\n",
    "df_tables_count['cnt'] = df_tables_count['cnt'].astype(int)\n",
    "df_tables_count"
   ]
  },
  {
   "cell_type": "code",
   "execution_count": 51,
   "id": "7ec5e867",
   "metadata": {},
   "outputs": [],
   "source": [
    "conn_dest.close()\n",
    "conn_orig.close()"
   ]
  }
 ],
 "metadata": {
  "kernelspec": {
   "display_name": "Python 3 (ipykernel)",
   "language": "python",
   "name": "python3"
  },
  "language_info": {
   "codemirror_mode": {
    "name": "ipython",
    "version": 3
   },
   "file_extension": ".py",
   "mimetype": "text/x-python",
   "name": "python",
   "nbconvert_exporter": "python",
   "pygments_lexer": "ipython3",
   "version": "3.9.7"
  },
  "vp": {
   "vp_config_version": "1.0.0",
   "vp_menu_width": 273,
   "vp_note_display": true,
   "vp_note_width": 263,
   "vp_position": {
    "width": 541
   },
   "vp_section_display": false,
   "vp_signature": "VisualPython"
  }
 },
 "nbformat": 4,
 "nbformat_minor": 5
}
